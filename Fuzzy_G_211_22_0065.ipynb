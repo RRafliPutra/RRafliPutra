{
  "nbformat": 4,
  "nbformat_minor": 0,
  "metadata": {
    "colab": {
      "provenance": []
    },
    "kernelspec": {
      "name": "python3",
      "display_name": "Python 3"
    },
    "language_info": {
      "name": "python"
    }
  },
  "cells": [
    {
      "cell_type": "code",
      "execution_count": null,
      "metadata": {
        "colab": {
          "base_uri": "https://localhost:8080/",
          "height": 73
        },
        "id": "preLrw9aJAgx",
        "outputId": "f15e9144-cb90-4f76-dfcf-31e97d3ca2e4"
      },
      "outputs": [
        {
          "output_type": "display_data",
          "data": {
            "text/plain": [
              "<IPython.core.display.HTML object>"
            ],
            "text/html": [
              "\n",
              "     <input type=\"file\" id=\"files-74a412ef-f3ca-49aa-adef-72e68a8fd188\" name=\"files[]\" multiple disabled\n",
              "        style=\"border:none\" />\n",
              "     <output id=\"result-74a412ef-f3ca-49aa-adef-72e68a8fd188\">\n",
              "      Upload widget is only available when the cell has been executed in the\n",
              "      current browser session. Please rerun this cell to enable.\n",
              "      </output>\n",
              "      <script>// Copyright 2017 Google LLC\n",
              "//\n",
              "// Licensed under the Apache License, Version 2.0 (the \"License\");\n",
              "// you may not use this file except in compliance with the License.\n",
              "// You may obtain a copy of the License at\n",
              "//\n",
              "//      http://www.apache.org/licenses/LICENSE-2.0\n",
              "//\n",
              "// Unless required by applicable law or agreed to in writing, software\n",
              "// distributed under the License is distributed on an \"AS IS\" BASIS,\n",
              "// WITHOUT WARRANTIES OR CONDITIONS OF ANY KIND, either express or implied.\n",
              "// See the License for the specific language governing permissions and\n",
              "// limitations under the License.\n",
              "\n",
              "/**\n",
              " * @fileoverview Helpers for google.colab Python module.\n",
              " */\n",
              "(function(scope) {\n",
              "function span(text, styleAttributes = {}) {\n",
              "  const element = document.createElement('span');\n",
              "  element.textContent = text;\n",
              "  for (const key of Object.keys(styleAttributes)) {\n",
              "    element.style[key] = styleAttributes[key];\n",
              "  }\n",
              "  return element;\n",
              "}\n",
              "\n",
              "// Max number of bytes which will be uploaded at a time.\n",
              "const MAX_PAYLOAD_SIZE = 100 * 1024;\n",
              "\n",
              "function _uploadFiles(inputId, outputId) {\n",
              "  const steps = uploadFilesStep(inputId, outputId);\n",
              "  const outputElement = document.getElementById(outputId);\n",
              "  // Cache steps on the outputElement to make it available for the next call\n",
              "  // to uploadFilesContinue from Python.\n",
              "  outputElement.steps = steps;\n",
              "\n",
              "  return _uploadFilesContinue(outputId);\n",
              "}\n",
              "\n",
              "// This is roughly an async generator (not supported in the browser yet),\n",
              "// where there are multiple asynchronous steps and the Python side is going\n",
              "// to poll for completion of each step.\n",
              "// This uses a Promise to block the python side on completion of each step,\n",
              "// then passes the result of the previous step as the input to the next step.\n",
              "function _uploadFilesContinue(outputId) {\n",
              "  const outputElement = document.getElementById(outputId);\n",
              "  const steps = outputElement.steps;\n",
              "\n",
              "  const next = steps.next(outputElement.lastPromiseValue);\n",
              "  return Promise.resolve(next.value.promise).then((value) => {\n",
              "    // Cache the last promise value to make it available to the next\n",
              "    // step of the generator.\n",
              "    outputElement.lastPromiseValue = value;\n",
              "    return next.value.response;\n",
              "  });\n",
              "}\n",
              "\n",
              "/**\n",
              " * Generator function which is called between each async step of the upload\n",
              " * process.\n",
              " * @param {string} inputId Element ID of the input file picker element.\n",
              " * @param {string} outputId Element ID of the output display.\n",
              " * @return {!Iterable<!Object>} Iterable of next steps.\n",
              " */\n",
              "function* uploadFilesStep(inputId, outputId) {\n",
              "  const inputElement = document.getElementById(inputId);\n",
              "  inputElement.disabled = false;\n",
              "\n",
              "  const outputElement = document.getElementById(outputId);\n",
              "  outputElement.innerHTML = '';\n",
              "\n",
              "  const pickedPromise = new Promise((resolve) => {\n",
              "    inputElement.addEventListener('change', (e) => {\n",
              "      resolve(e.target.files);\n",
              "    });\n",
              "  });\n",
              "\n",
              "  const cancel = document.createElement('button');\n",
              "  inputElement.parentElement.appendChild(cancel);\n",
              "  cancel.textContent = 'Cancel upload';\n",
              "  const cancelPromise = new Promise((resolve) => {\n",
              "    cancel.onclick = () => {\n",
              "      resolve(null);\n",
              "    };\n",
              "  });\n",
              "\n",
              "  // Wait for the user to pick the files.\n",
              "  const files = yield {\n",
              "    promise: Promise.race([pickedPromise, cancelPromise]),\n",
              "    response: {\n",
              "      action: 'starting',\n",
              "    }\n",
              "  };\n",
              "\n",
              "  cancel.remove();\n",
              "\n",
              "  // Disable the input element since further picks are not allowed.\n",
              "  inputElement.disabled = true;\n",
              "\n",
              "  if (!files) {\n",
              "    return {\n",
              "      response: {\n",
              "        action: 'complete',\n",
              "      }\n",
              "    };\n",
              "  }\n",
              "\n",
              "  for (const file of files) {\n",
              "    const li = document.createElement('li');\n",
              "    li.append(span(file.name, {fontWeight: 'bold'}));\n",
              "    li.append(span(\n",
              "        `(${file.type || 'n/a'}) - ${file.size} bytes, ` +\n",
              "        `last modified: ${\n",
              "            file.lastModifiedDate ? file.lastModifiedDate.toLocaleDateString() :\n",
              "                                    'n/a'} - `));\n",
              "    const percent = span('0% done');\n",
              "    li.appendChild(percent);\n",
              "\n",
              "    outputElement.appendChild(li);\n",
              "\n",
              "    const fileDataPromise = new Promise((resolve) => {\n",
              "      const reader = new FileReader();\n",
              "      reader.onload = (e) => {\n",
              "        resolve(e.target.result);\n",
              "      };\n",
              "      reader.readAsArrayBuffer(file);\n",
              "    });\n",
              "    // Wait for the data to be ready.\n",
              "    let fileData = yield {\n",
              "      promise: fileDataPromise,\n",
              "      response: {\n",
              "        action: 'continue',\n",
              "      }\n",
              "    };\n",
              "\n",
              "    // Use a chunked sending to avoid message size limits. See b/62115660.\n",
              "    let position = 0;\n",
              "    do {\n",
              "      const length = Math.min(fileData.byteLength - position, MAX_PAYLOAD_SIZE);\n",
              "      const chunk = new Uint8Array(fileData, position, length);\n",
              "      position += length;\n",
              "\n",
              "      const base64 = btoa(String.fromCharCode.apply(null, chunk));\n",
              "      yield {\n",
              "        response: {\n",
              "          action: 'append',\n",
              "          file: file.name,\n",
              "          data: base64,\n",
              "        },\n",
              "      };\n",
              "\n",
              "      let percentDone = fileData.byteLength === 0 ?\n",
              "          100 :\n",
              "          Math.round((position / fileData.byteLength) * 100);\n",
              "      percent.textContent = `${percentDone}% done`;\n",
              "\n",
              "    } while (position < fileData.byteLength);\n",
              "  }\n",
              "\n",
              "  // All done.\n",
              "  yield {\n",
              "    response: {\n",
              "      action: 'complete',\n",
              "    }\n",
              "  };\n",
              "}\n",
              "\n",
              "scope.google = scope.google || {};\n",
              "scope.google.colab = scope.google.colab || {};\n",
              "scope.google.colab._files = {\n",
              "  _uploadFiles,\n",
              "  _uploadFilesContinue,\n",
              "};\n",
              "})(self);\n",
              "</script> "
            ]
          },
          "metadata": {}
        },
        {
          "output_type": "stream",
          "name": "stdout",
          "text": [
            "Saving Data.csv to Data.csv\n"
          ]
        }
      ],
      "source": [
        "## Import Librari\n",
        "\n",
        "import pandas as pd\n",
        "import numpy as np\n",
        "import random\n",
        "import operator\n",
        "import math\n",
        "\n",
        "# Importing the datasets\n",
        "from google.colab import files\n",
        "uploaded = files.upload()"
      ]
    },
    {
      "cell_type": "code",
      "source": [
        "## reading the input csv file\n",
        "\n",
        "df_full = pd.read_csv(\"Data.csv\")\n",
        "columns = list(df_full.columns)\n",
        "features = columns[:len(columns)-1]\n",
        "class_labels = list(df_full[columns[-1]])\n",
        "df = df_full[features]"
      ],
      "metadata": {
        "id": "RqiMzKdSJfA0"
      },
      "execution_count": null,
      "outputs": []
    },
    {
      "cell_type": "code",
      "source": [
        "# Jumlah atribut\n",
        "num_attr = len(df.columns) -1\n",
        "\n",
        "#Jumlah Cluster\n",
        "k = 2\n",
        "\n",
        "#Maksimum Iteras!\n",
        "MAX_ITER = 100\n",
        "\n",
        "# Jumlah data poin\n",
        "n = len(df)\n",
        "\n",
        "#Fuzzy parameter\n",
        "m = 2.00"
      ],
      "metadata": {
        "id": "E5GTMMhRKS0P"
      },
      "execution_count": null,
      "outputs": []
    },
    {
      "cell_type": "code",
      "source": [
        "#### fungsi akurasi untuk menghitung akurasi dari hasil\n",
        "\n",
        "def accuracy(cluster_labels, class_labels):\n",
        "    county = [0,0]\n",
        "    countn = [0,0]\n",
        "    tp = [0,0]\n",
        "    tn = [0,0]\n",
        "    fp = [0,0]\n",
        "    fn = [0,0]\n",
        "\n",
        "    for i in range(len(df)):\n",
        "        #Yes = 1, No = 0\n",
        "        if cluster_labels [i] == 1 and class_labels[i] == 'Yes':\n",
        "            tp[0] = tp[0] + 1\n",
        "        if cluster_labels [i] == 0 and class_labels[i] == 'No':\n",
        "            tn[0] = tn[0] + 1\n",
        "        if cluster_labels [i] == 1 and class_labels[i] == 'No':\n",
        "            fp[0] = fp[0] + 1\n",
        "        if cluster_labels [i] == 0 and class_labels[i] == 'Yes':\n",
        "            fn[0] = fn[0] + 1\n",
        "\n",
        "    for i in range(len(df)):\n",
        "        #Yes = 0, No = 1\n",
        "        if cluster_labels [i] == 0 and class_labels[i] == 'Yes':\n",
        "            tp[1] = tp[1] + 1\n",
        "        if cluster_labels [i] == 1 and class_labels[i] == 'No':\n",
        "            tn[1] = tn[1] + 1\n",
        "        if cluster_labels [i] == 0 and class_labels[i] == 'No':\n",
        "            fp[1] = fp[1] + 1\n",
        "        if cluster_labels [i] == 1 and class_labels[i] == 'Yes':\n",
        "            fn[1] = fn[1] + 1\n",
        "\n",
        "    a0 = float((tp[0] + tn[0]))/(tp[0] + tn[0] + fn[0] + fp[0])\n",
        "    a1 = float((tp[1] + tn[1]))/(tp[1] + tn[1] + fn[1] + fp[1])\n",
        "    p0 = float(tp[0])/(tp[0] + fp[0])\n",
        "    p1 = float(tp[1])/(tp[1] + fp[1])\n",
        "    r0 = float(tp[0])/(tp[0] + fp[0])\n",
        "    r1 = float(tp[1])/(tp[1] + fp[1])\n",
        "\n",
        "    accuracy = [a0*100,a1*100]\n",
        "    precision = [p0*100,p1*100]\n",
        "    recall = [r0*100,r1*100]\n",
        "\n",
        "    return accuracy, precision, recall"
      ],
      "metadata": {
        "id": "S3OKQQLsNlLk"
      },
      "execution_count": null,
      "outputs": []
    },
    {
      "cell_type": "code",
      "source": [
        "### Inisialiasi Jumlah matriks dengn random value\n",
        "\n",
        "def initializeMembershipMatrix():\n",
        "    membership_mat = list()\n",
        "    for i in range(n):\n",
        "        random_num_list = [random.random() for i in range(k)]\n",
        "        summation = sum(random_num_list)\n",
        "        temp_list = [x/summation for x in random_num_list]\n",
        "        membership_mat.append(temp_list)\n",
        "    return membership_mat"
      ],
      "metadata": {
        "id": "0wCAidahRKrz"
      },
      "execution_count": null,
      "outputs": []
    },
    {
      "cell_type": "code",
      "source": [
        "### menghitung pusat cluster dengan setiap iterasi\n",
        "\n",
        "def calculateClusterCenter(membership_mat):\n",
        "    cluster_mem_val = list(zip(*membership_mat))\n",
        "    cluster_centers = list()\n",
        "    for j in range(k):\n",
        "        x = list(cluster_mem_val[j])\n",
        "        xraised = [e ** m for e in x]\n",
        "        denominator = sum(xraised)\n",
        "        temp_num = list()\n",
        "        for i in range(n):\n",
        "            data_point = list(df.iloc[i])\n",
        "            prod = [xraised[i] * val for val in data_point]\n",
        "            temp_num.append(prod)\n",
        "        numerator = map(sum, zip(*temp_num))\n",
        "        center = [z/denominator for z in numerator]\n",
        "        cluster_centers.append(center)\n",
        "    return cluster_centers"
      ],
      "metadata": {
        "id": "44CUtXcmRkDv"
      },
      "execution_count": 44,
      "outputs": []
    },
    {
      "cell_type": "code",
      "source": [
        "### update nilai anggota dengan pusat cluster\n",
        "\n",
        "def updateMembershipValue (membership_mat, cluster_centers):\n",
        "    p = float (2/(m-1))\n",
        "    for i in range(n):\n",
        "        x = list(df.iloc[i])\n",
        "        distances = [np.linalg.norm(list(map(operator.sub, x, cluster_centers [j]))) for j in range(k)]\n",
        "        for j in range(k):\n",
        "            den = sum([math.pow(float(distances [j]/distances [c]), p) for c in range(k)])\n",
        "            membership_mat[i][j] = float(1/den)\n",
        "            return membership_mat\n"
      ],
      "metadata": {
        "id": "67hRICRLUKcO"
      },
      "execution_count": 57,
      "outputs": []
    },
    {
      "cell_type": "code",
      "source": [
        "def getClusters (membership_mat):\n",
        "    cluster_labels = list()\n",
        "    for i in range(n):\n",
        "        max_val, idx = max((val, idx) for (idx, val) in enumerate(membership_mat[i]))\n",
        "        cluster_labels.append(idx)\n",
        "    return cluster_labels"
      ],
      "metadata": {
        "id": "izHA4cllUfPU"
      },
      "execution_count": 59,
      "outputs": []
    },
    {
      "cell_type": "code",
      "source": [
        "### final fungsi FCM\n",
        "\n",
        "def fuzzyCMeansClustering():\n",
        "    # Membership Matrix\n",
        "    membership_mat = initializeMembershipMatrix()\n",
        "    curr = 0\n",
        "    while curr <= MAX_ITER:\n",
        "        cluster_centers = calculateClusterCenter(membership_mat)\n",
        "        membership_mat = updateMembershipValue(membership_mat, cluster_centers)\n",
        "        cluster_labels = getClusters(membership_mat)\n",
        "        curr += 1\n",
        "\n",
        "    print (membership_mat)\n",
        "    return cluster_labels, cluster_centers"
      ],
      "metadata": {
        "id": "ZrRWurzGVmcc"
      },
      "execution_count": null,
      "outputs": []
    },
    {
      "cell_type": "code",
      "source": [
        "### memanggil fungsi utama dan mengirimkan hasil akhir dalam label dan pusat cluster\n",
        "\n",
        "print(\"printing the final membership matrix\")\n",
        "\n",
        "labels, centers = fuzzyCMeansClustering()\n",
        "\n",
        "print(\"printing cluster centers\")\n",
        "print(centers)\n"
      ],
      "metadata": {
        "colab": {
          "base_uri": "https://localhost:8080/"
        },
        "id": "HEK2pUpGWKA7",
        "outputId": "e08016d2-2519-47e1-8fe7-c916d3db3e44"
      },
      "execution_count": 60,
      "outputs": [
        {
          "output_type": "stream",
          "name": "stdout",
          "text": [
            "printing the final membership matrix\n",
            "[[0.4417853269332446, 0.41042843806624685], [0.5402267454077035, 0.4597732545922964], [0.8870157306084387, 0.11298426939156124], [0.103797078557729, 0.896202921442271], [0.6111232143977304, 0.3888767856022695], [0.3706709618896778, 0.6293290381103223], [0.6981669856583658, 0.3018330143416342], [0.6645474663886671, 0.3354525336113329], [0.4305989962757188, 0.5694010037242812], [0.18991379697381777, 0.8100862030261823], [0.7708231294227536, 0.22917687057724648], [0.2555753835024105, 0.7444246164975895], [0.3299335077655239, 0.670066492234476], [0.552753407975483, 0.44724659202451705], [0.5950210078908378, 0.40497899210916216], [0.5744043196967765, 0.4255956803032236], [0.37866550351812556, 0.6213344964818744], [0.1897753726164964, 0.8102246273835035], [0.690269717316817, 0.30973028268318303], [0.4323490004599927, 0.5676509995400073], [0.48365745735992116, 0.5163425426400788], [0.7714115921098869, 0.22858840789011317], [0.40949199166329125, 0.5905080083367088], [0.5593476786670686, 0.4406523213329315], [0.4150842478461569, 0.5849157521538431], [0.38954961488285306, 0.6104503851171469], [0.4821045454618718, 0.5178954545381282], [0.9437416662754162, 0.056258333724583734], [0.5286850830967543, 0.47131491690324556], [0.6200448940379101, 0.37995510596208987], [0.40691999102962106, 0.5930800089703788], [0.49296693996639673, 0.5070330600336033], [0.4711499519966282, 0.5288500480033718], [0.31650754111997725, 0.6834924588800227], [0.4003787150028786, 0.5996212849971214], [0.4527013622527322, 0.5472986377472677], [0.9374353949481109, 0.06256460505188895], [0.49995363871063236, 0.5000463612893676], [0.1007952377880991, 0.8992047622119009], [0.08347897628382722, 0.9165210237161727], [0.5527566618600946, 0.4472433381399054], [0.44683727775350335, 0.5531627222464967], [0.2456017379013341, 0.754398262098666], [0.7784716014600109, 0.22152839853998904], [0.5776280430988087, 0.42237195690119145], [0.6680971551478557, 0.3319028448521443], [0.8869156353277772, 0.11308436467222277], [0.01673244279063943, 0.9832675572093605], [0.786944379722017, 0.21305562027798297], [0.8559740003656394, 0.14402599963436058], [0.8313417201025851, 0.16865827989741486], [0.3371946159576092, 0.6628053840423909], [0.6101788454808399, 0.38982115451916005], [0.6228849930888034, 0.3771150069111965], [0.36955332571537114, 0.6304466742846289], [0.8329916066310921, 0.16700839336890808], [0.8169623726178361, 0.18303762738216392], [0.67573664283629, 0.32426335716371], [0.5342723212602124, 0.46572767873978743], [0.18750344168163818, 0.8124965583183619], [0.9558292299059358, 0.044170770094064185], [0.4783975947693083, 0.5216024052306917], [0.6459626097253023, 0.35403739027469766], [0.2980304400458125, 0.7019695599541875], [0.45995069748045175, 0.5400493025195483], [0.43758786720992154, 0.5624121327900784], [0.6683899664688465, 0.3316100335311534], [0.5501261060891977, 0.44987389391080235], [0.3715874226335457, 0.6284125773664543], [0.5279957923302828, 0.472004207669717], [0.22127242235760824, 0.7787275776423918], [0.5930029613263196, 0.4069970386736804], [0.8031815302851125, 0.1968184697148875], [0.14331439150805295, 0.8566856084919471], [0.39424643666432874, 0.6057535633356713], [0.2245604793467981, 0.7754395206532019], [0.44841846627234316, 0.5515815337276568], [0.8207932908430167, 0.17920670915698333], [0.758824216543291, 0.24117578345670904], [0.354915579330152, 0.6450844206698481], [0.589260206407584, 0.4107397935924159], [0.49105634418231753, 0.5089436558176824], [0.49382925771188413, 0.5061707422881159], [0.4941015658273849, 0.5058984341726152], [0.7892798602408201, 0.2107201397591799], [0.021761665596608224, 0.9782383344033918], [0.3656009398650681, 0.634399060134932], [0.32041406729558, 0.67958593270442], [0.21795230581986547, 0.7820476941801345], [0.15539646545720928, 0.8446035345427907], [0.6686198143029727, 0.3313801856970274], [0.042787032711278344, 0.9572129672887216], [0.5329591499908086, 0.4670408500091912], [0.8215834141505529, 0.17841658584944706], [0.5101770680075857, 0.4898229319924144], [0.5864487562318542, 0.4135512437681457], [0.9470628101870604, 0.05293718981293959], [0.7573627128863211, 0.242637287113679], [0.5018147790271339, 0.49818522097286616], [0.4503288231420004, 0.5496711768579996], [0.5571943663479458, 0.4428056336520543], [0.3028506112115968, 0.6971493887884033], [0.8170525712295831, 0.1829474287704169], [0.6588725732876562, 0.34112742671234375], [0.8940773720705142, 0.10592262792948587], [0.4646373261544989, 0.5353626738455011], [0.6094041556572402, 0.39059584434275985], [0.2780904534249135, 0.7219095465750864], [0.5838583706908943, 0.4161416293091056], [0.7949708365906548, 0.2050291634093452]]\n",
            "printing cluster centers\n",
            "[[67.51688397152229, 66.2561528579967, 68.6789217320955, 69.42862389541052, 66.70883202788974, 66.89039811085233, 71.05330953480743, 71.0129102267938, 64.00064615490929, 64.05245690208528, 68.86495685055746, 70.01493935122971, 67.235248968998, 68.40690352672262, 64.23820268420322, 62.2889832160019, 69.00270239620268, 68.03828258150101, 66.6041122425483, 64.65377766379201, 74.47585194759736, 73.72615599960277, 68.12702132270677, 68.20481787711242, 59.75142259174618, 59.23908905157889, 62.24287952059373, 61.69712966815669, 64.50711906764822, 63.33751159878418, 71.44335278757337, 71.60234774146224, 62.36354803970468, 62.590631859685004, 66.24412936167286, 65.25486262855871, 65.20563211594886, 64.27172732293153, 68.38471820184539, 67.47783881447796, 64.71793284869906, 63.89695138332877, 54.589078265506785, 53.31536007519503], [67.42885923379939, 67.2165926904507, 69.85214403547444, 70.6223223519253, 67.89015691233585, 67.35884434876598, 71.69321300663186, 71.16824985882823, 64.133797303307, 63.31514543181685, 70.92246099087562, 70.6341762640783, 68.67752335488916, 69.38822331298928, 64.37783539022905, 61.772034248585506, 68.16740818163645, 67.24206190317102, 66.74618693004554, 64.32782239562829, 74.18993304111618, 72.09531962539387, 68.86638419401977, 67.99206759731156, 61.0603835775761, 58.99080765242005, 63.61652621073031, 61.45655125572477, 64.57175600676582, 63.85430105847831, 71.98678515689417, 72.98037422191075, 62.034534373986546, 62.48394881726528, 64.9471876410914, 64.9238346934627, 66.33236844283692, 65.5070876837415, 69.62398171688623, 67.51632855489405, 67.68303058140903, 64.49793858007365, 57.0087687573768, 55.09776810180604]]\n"
          ]
        }
      ]
    },
    {
      "cell_type": "code",
      "source": [
        "### menghitung hasil akurasi\n",
        "\n",
        "a,p,r = accuracy(labels, class_labels)\n",
        "\n",
        "### catak nilai akurasi\n",
        "\n",
        "print(\"Accuracy =\"+ str(a))\n",
        "print(\"Precision =\" + str(p))\n",
        "print(\"Recall = \" + str(r))"
      ],
      "metadata": {
        "colab": {
          "base_uri": "https://localhost:8080/"
        },
        "id": "aD9q48elXNfA",
        "outputId": "01f3e13f-6bec-4877-947a-28d2a731a7e4"
      },
      "execution_count": 61,
      "outputs": [
        {
          "output_type": "stream",
          "name": "stdout",
          "text": [
            "Accuracy =[50.90909090909091, 49.09090909090909]\n",
            "Precision =[50.943396226415096, 49.122807017543856]\n",
            "Recall = [50.943396226415096, 49.122807017543856]\n"
          ]
        }
      ]
    }
  ]
}