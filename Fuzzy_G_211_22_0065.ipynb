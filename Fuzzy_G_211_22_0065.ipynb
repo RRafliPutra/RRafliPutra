{
  "nbformat": 4,
  "nbformat_minor": 0,
  "metadata": {
    "colab": {
      "provenance": []
    },
    "kernelspec": {
      "name": "python3",
      "display_name": "Python 3"
    },
    "language_info": {
      "name": "python"
    }
  },
  "cells": [
    {
      "cell_type": "code",
      "execution_count": null,
      "metadata": {
        "colab": {
          "base_uri": "https://localhost:8080/",
          "height": 73
        },
        "id": "preLrw9aJAgx",
        "outputId": "f15e9144-cb90-4f76-dfcf-31e97d3ca2e4"
      },
      "outputs": [
        {
          "output_type": "display_data",
          "data": {
            "text/plain": [
              "<IPython.core.display.HTML object>"
            ],
            "text/html": [
              "\n",
              "     <input type=\"file\" id=\"files-74a412ef-f3ca-49aa-adef-72e68a8fd188\" name=\"files[]\" multiple disabled\n",
              "        style=\"border:none\" />\n",
              "     <output id=\"result-74a412ef-f3ca-49aa-adef-72e68a8fd188\">\n",
              "      Upload widget is only available when the cell has been executed in the\n",
              "      current browser session. Please rerun this cell to enable.\n",
              "      </output>\n",
              "      <script>// Copyright 2017 Google LLC\n",
              "//\n",
              "// Licensed under the Apache License, Version 2.0 (the \"License\");\n",
              "// you may not use this file except in compliance with the License.\n",
              "// You may obtain a copy of the License at\n",
              "//\n",
              "//      http://www.apache.org/licenses/LICENSE-2.0\n",
              "//\n",
              "// Unless required by applicable law or agreed to in writing, software\n",
              "// distributed under the License is distributed on an \"AS IS\" BASIS,\n",
              "// WITHOUT WARRANTIES OR CONDITIONS OF ANY KIND, either express or implied.\n",
              "// See the License for the specific language governing permissions and\n",
              "// limitations under the License.\n",
              "\n",
              "/**\n",
              " * @fileoverview Helpers for google.colab Python module.\n",
              " */\n",
              "(function(scope) {\n",
              "function span(text, styleAttributes = {}) {\n",
              "  const element = document.createElement('span');\n",
              "  element.textContent = text;\n",
              "  for (const key of Object.keys(styleAttributes)) {\n",
              "    element.style[key] = styleAttributes[key];\n",
              "  }\n",
              "  return element;\n",
              "}\n",
              "\n",
              "// Max number of bytes which will be uploaded at a time.\n",
              "const MAX_PAYLOAD_SIZE = 100 * 1024;\n",
              "\n",
              "function _uploadFiles(inputId, outputId) {\n",
              "  const steps = uploadFilesStep(inputId, outputId);\n",
              "  const outputElement = document.getElementById(outputId);\n",
              "  // Cache steps on the outputElement to make it available for the next call\n",
              "  // to uploadFilesContinue from Python.\n",
              "  outputElement.steps = steps;\n",
              "\n",
              "  return _uploadFilesContinue(outputId);\n",
              "}\n",
              "\n",
              "// This is roughly an async generator (not supported in the browser yet),\n",
              "// where there are multiple asynchronous steps and the Python side is going\n",
              "// to poll for completion of each step.\n",
              "// This uses a Promise to block the python side on completion of each step,\n",
              "// then passes the result of the previous step as the input to the next step.\n",
              "function _uploadFilesContinue(outputId) {\n",
              "  const outputElement = document.getElementById(outputId);\n",
              "  const steps = outputElement.steps;\n",
              "\n",
              "  const next = steps.next(outputElement.lastPromiseValue);\n",
              "  return Promise.resolve(next.value.promise).then((value) => {\n",
              "    // Cache the last promise value to make it available to the next\n",
              "    // step of the generator.\n",
              "    outputElement.lastPromiseValue = value;\n",
              "    return next.value.response;\n",
              "  });\n",
              "}\n",
              "\n",
              "/**\n",
              " * Generator function which is called between each async step of the upload\n",
              " * process.\n",
              " * @param {string} inputId Element ID of the input file picker element.\n",
              " * @param {string} outputId Element ID of the output display.\n",
              " * @return {!Iterable<!Object>} Iterable of next steps.\n",
              " */\n",
              "function* uploadFilesStep(inputId, outputId) {\n",
              "  const inputElement = document.getElementById(inputId);\n",
              "  inputElement.disabled = false;\n",
              "\n",
              "  const outputElement = document.getElementById(outputId);\n",
              "  outputElement.innerHTML = '';\n",
              "\n",
              "  const pickedPromise = new Promise((resolve) => {\n",
              "    inputElement.addEventListener('change', (e) => {\n",
              "      resolve(e.target.files);\n",
              "    });\n",
              "  });\n",
              "\n",
              "  const cancel = document.createElement('button');\n",
              "  inputElement.parentElement.appendChild(cancel);\n",
              "  cancel.textContent = 'Cancel upload';\n",
              "  const cancelPromise = new Promise((resolve) => {\n",
              "    cancel.onclick = () => {\n",
              "      resolve(null);\n",
              "    };\n",
              "  });\n",
              "\n",
              "  // Wait for the user to pick the files.\n",
              "  const files = yield {\n",
              "    promise: Promise.race([pickedPromise, cancelPromise]),\n",
              "    response: {\n",
              "      action: 'starting',\n",
              "    }\n",
              "  };\n",
              "\n",
              "  cancel.remove();\n",
              "\n",
              "  // Disable the input element since further picks are not allowed.\n",
              "  inputElement.disabled = true;\n",
              "\n",
              "  if (!files) {\n",
              "    return {\n",
              "      response: {\n",
              "        action: 'complete',\n",
              "      }\n",
              "    };\n",
              "  }\n",
              "\n",
              "  for (const file of files) {\n",
              "    const li = document.createElement('li');\n",
              "    li.append(span(file.name, {fontWeight: 'bold'}));\n",
              "    li.append(span(\n",
              "        `(${file.type || 'n/a'}) - ${file.size} bytes, ` +\n",
              "        `last modified: ${\n",
              "            file.lastModifiedDate ? file.lastModifiedDate.toLocaleDateString() :\n",
              "                                    'n/a'} - `));\n",
              "    const percent = span('0% done');\n",
              "    li.appendChild(percent);\n",
              "\n",
              "    outputElement.appendChild(li);\n",
              "\n",
              "    const fileDataPromise = new Promise((resolve) => {\n",
              "      const reader = new FileReader();\n",
              "      reader.onload = (e) => {\n",
              "        resolve(e.target.result);\n",
              "      };\n",
              "      reader.readAsArrayBuffer(file);\n",
              "    });\n",
              "    // Wait for the data to be ready.\n",
              "    let fileData = yield {\n",
              "      promise: fileDataPromise,\n",
              "      response: {\n",
              "        action: 'continue',\n",
              "      }\n",
              "    };\n",
              "\n",
              "    // Use a chunked sending to avoid message size limits. See b/62115660.\n",
              "    let position = 0;\n",
              "    do {\n",
              "      const length = Math.min(fileData.byteLength - position, MAX_PAYLOAD_SIZE);\n",
              "      const chunk = new Uint8Array(fileData, position, length);\n",
              "      position += length;\n",
              "\n",
              "      const base64 = btoa(String.fromCharCode.apply(null, chunk));\n",
              "      yield {\n",
              "        response: {\n",
              "          action: 'append',\n",
              "          file: file.name,\n",
              "          data: base64,\n",
              "        },\n",
              "      };\n",
              "\n",
              "      let percentDone = fileData.byteLength === 0 ?\n",
              "          100 :\n",
              "          Math.round((position / fileData.byteLength) * 100);\n",
              "      percent.textContent = `${percentDone}% done`;\n",
              "\n",
              "    } while (position < fileData.byteLength);\n",
              "  }\n",
              "\n",
              "  // All done.\n",
              "  yield {\n",
              "    response: {\n",
              "      action: 'complete',\n",
              "    }\n",
              "  };\n",
              "}\n",
              "\n",
              "scope.google = scope.google || {};\n",
              "scope.google.colab = scope.google.colab || {};\n",
              "scope.google.colab._files = {\n",
              "  _uploadFiles,\n",
              "  _uploadFilesContinue,\n",
              "};\n",
              "})(self);\n",
              "</script> "
            ]
          },
          "metadata": {}
        },
        {
          "output_type": "stream",
          "name": "stdout",
          "text": [
            "Saving Data.csv to Data.csv\n"
          ]
        }
      ],
      "source": [
        "## Import Librari\n",
        "\n",
        "import pandas as pd\n",
        "import numpy as np\n",
        "import random\n",
        "import operator\n",
        "import math\n",
        "\n",
        "# Importing the datasets\n",
        "from google.colab import files\n",
        "uploaded = files.upload()"
      ]
    },
    {
      "cell_type": "code",
      "source": [
        "## reading the input csv file\n",
        "\n",
        "df_full = pd.read_csv(\"Data.csv\")\n",
        "columns = list(df_full.columns)\n",
        "features = columns[:len(columns)-1]\n",
        "class_labels = list(df_full[columns[-1]])\n",
        "df = df_full[features]"
      ],
      "metadata": {
        "id": "RqiMzKdSJfA0"
      },
      "execution_count": null,
      "outputs": []
    },
    {
      "cell_type": "code",
      "source": [
        "# Jumlah atribut\n",
        "num_attr = len(df.columns) -1\n",
        "\n",
        "#Jumlah Cluster\n",
        "k = 2\n",
        "\n",
        "#Maksimum Iteras!\n",
        "MAX_ITER = 100\n",
        "\n",
        "# Jumlah data poin\n",
        "n = len(df)\n",
        "\n",
        "#Fuzzy parameter\n",
        "m = 2.00"
      ],
      "metadata": {
        "id": "E5GTMMhRKS0P"
      },
      "execution_count": 5,
      "outputs": []
    },
    {
      "cell_type": "code",
      "source": [
        "#### fungsi akurasi untuk menghitung akurasi dari hasil\n",
        "\n",
        "def accuracy(cluster_labels, class_labels):\n",
        "    county = [0,0]\n",
        "    countn = [0,0]\n",
        "    tp = [0,0]\n",
        "    tn = [0,0]\n",
        "    fp = [0,0]\n",
        "    fn = [0,0]\n",
        "\n",
        "    for i in range(len(df)):\n",
        "        #Yes = 1, No = 0\n",
        "        if cluster_labels [i] == 1 and class_labels[i] == 'Yes':\n",
        "            tp[0] = tp[0] + 1\n",
        "        if cluster_labels [i] == 0 and class_labels[i] == 'No':\n",
        "            tn[0] = tn[0] + 1\n",
        "        if cluster_labels [i] == 1 and class_labels[i] == 'No':\n",
        "            fp[0] = fp[0] + 1\n",
        "        if cluster_labels [i] == 0 and class_labels[i] == 'Yes':\n",
        "            fn[0] = fn[0] + 1\n",
        "\n",
        "    for i in range(len(df)):\n",
        "        #Yes = 0, No = 1\n",
        "        if cluster_labels [i] == 0 and class_labels[i] == 'Yes':\n",
        "            tp[1] = tp[1] + 1\n",
        "        if cluster_labels [i] == 1 and class_labels[i] == 'No':\n",
        "            tn[1] = tn[1] + 1\n",
        "        if cluster_labels [i] == 0 and class_labels[i] == 'No':\n",
        "            fp[1] = fp[1] + 1\n",
        "        if cluster_labels [i] == 1 and class_labels[i] == 'Yes':\n",
        "            fn[1] = fn[1] + 1\n",
        "\n",
        "    a0 = float((tp[0] + tn[0]))/(tp[0] + tn[0] + fn[0] + fp[0])\n",
        "    a1 = float((tp[1] + tn[1]))/(tp[1] + tn[1] + fn[1] + fp[1])\n",
        "    p0 = float(tp[0])/(tp[0] + fp[0])\n",
        "    p1 = float(tp[1])/(tp[1] + fp[1])\n",
        "    r0 = float(tp[0])/(tp[0] + fp[0])\n",
        "    r1 = float(tp[1])/(tp[1] + fp[1])\n",
        "\n",
        "    accuracy = [a0*100,a1*100]\n",
        "    precision = [p0*100,p1*100]\n",
        "    recall = [r0*100,r1*100]\n",
        "\n",
        "    return accuracy, precision, recall"
      ],
      "metadata": {
        "id": "S3OKQQLsNlLk"
      },
      "execution_count": 8,
      "outputs": []
    },
    {
      "cell_type": "code",
      "source": [
        "### Inisialiasi Jumlah matriks dengn random value\n",
        "\n",
        "def initializeMembershipMatrix():\n",
        "    membership_mat = list()\n",
        "    for i in range(n):\n",
        "        random_num_list = [random.random() for i in range(k)]\n",
        "        summation = sum(random_num_list)\n",
        "        temp_list = [x/summation for x in random_num_list]\n",
        "        membership_mat.append(temp_list)\n",
        "    return membership_mat"
      ],
      "metadata": {
        "id": "0wCAidahRKrz"
      },
      "execution_count": 10,
      "outputs": []
    },
    {
      "cell_type": "code",
      "source": [
        "### menghitung pusat cluster dengan setiap iterasi\n",
        "\n",
        "def calculateClusterCenter(membership_mat):\n",
        "    cluster_mem_val = zip(*membership_mat)\n",
        "    cluster_centers = list()\n",
        "    for j in range(k):\n",
        "        x = list(cluster_mem_val[j])\n",
        "        xraised = [e ** m for e in x]\n",
        "        denominator = sum(xraised)\n",
        "        temp_num = list()\n",
        "        for i in range(n):\n",
        "            data_point = list(df.iloc[i])\n",
        "            prod = [xraised[i] * val for val in data_point]\n",
        "            temp_num.append(prod)\n",
        "        numerator = map(sum, zip(*temp_num))\n",
        "        center = [z/denominator for z in numerator]\n",
        "        cluster_centers.append(center)\n",
        "    return cluster_centers"
      ],
      "metadata": {
        "id": "44CUtXcmRkDv"
      },
      "execution_count": 38,
      "outputs": []
    },
    {
      "cell_type": "code",
      "source": [
        "### update nilai anggota dengan pusat cluster\n",
        "\n",
        "def updateMembershipValue (membership_mat, cluster_centers):\n",
        "    p = float (2/(m-1))\n",
        "    for i in range(n):\n",
        "        X = list(df.iloc[i])\n",
        "        distances = [np.linalg.norm(map(operator.sub, x, cluster_centers [j])) for j in range(k)]\n",
        "        for j in range(k):\n",
        "            den = sum([math.pow(float(distances [j]/distances [c]), p) for c in range(k)])\n",
        "            membership_mat[i][j] = float(1/den)\n",
        "            return membership_mat\n"
      ],
      "metadata": {
        "id": "67hRICRLUKcO"
      },
      "execution_count": 13,
      "outputs": []
    },
    {
      "cell_type": "code",
      "source": [
        "def getClusters (membership_mat):\n",
        "    cluster_labels - list()\n",
        "    for i in range(n):\n",
        "        max_val, idx = max((val, idx) for (idx, val) in enumerate(membership_mat[i]))\n",
        "        cluster_labels.append(idx)\n",
        "    return cluster_labels"
      ],
      "metadata": {
        "id": "izHA4cllUfPU"
      },
      "execution_count": 14,
      "outputs": []
    },
    {
      "cell_type": "code",
      "source": [
        "### final fungsi FCM\n",
        "\n",
        "def fuzzyCMeansClustering():\n",
        "    # Membership Matrix\n",
        "    membership_mat = initializeMembershipMatrix()\n",
        "    curr = 0\n",
        "    while curr <= MAX_ITER:\n",
        "        cluster_centers = calculateClusterCenter (membership_mat)\n",
        "        membership_mat = updateMembershipValue (membership_mat, cluster_centers)\n",
        "        cluster_labels = getClusters (membership_mat)\n",
        "        curr += 1\n",
        "\n",
        "    print (membership_mat)\n",
        "    return cluster_labels, cluster_centers"
      ],
      "metadata": {
        "id": "ZrRWurzGVmcc"
      },
      "execution_count": 16,
      "outputs": []
    },
    {
      "cell_type": "code",
      "source": [
        "### memanggil fungsi utama dan mengirimkan hasil akhir dalam label dan pusat cluster\n",
        "\n",
        "print(\"printing the final membership matrix\")\n",
        "\n",
        "labels, centers = fuzzyCMeansClustering()\n",
        "\n",
        "print(\"printing cluster centers\")\n",
        "print(centers)\n"
      ],
      "metadata": {
        "colab": {
          "base_uri": "https://localhost:8080/",
          "height": 407
        },
        "id": "HEK2pUpGWKA7",
        "outputId": "4aa4b0ac-098a-48af-f63d-b77439a5466b"
      },
      "execution_count": 41,
      "outputs": [
        {
          "output_type": "stream",
          "name": "stdout",
          "text": [
            "printing the final membership matrix\n"
          ]
        },
        {
          "output_type": "error",
          "ename": "TypeError",
          "evalue": "ignored",
          "traceback": [
            "\u001b[0;31m---------------------------------------------------------------------------\u001b[0m",
            "\u001b[0;31mTypeError\u001b[0m                                 Traceback (most recent call last)",
            "\u001b[0;32m<ipython-input-41-a61f0beefdc8>\u001b[0m in \u001b[0;36m<cell line: 5>\u001b[0;34m()\u001b[0m\n\u001b[1;32m      3\u001b[0m \u001b[0mprint\u001b[0m\u001b[0;34m(\u001b[0m\u001b[0;34m\"printing the final membership matrix\"\u001b[0m\u001b[0;34m)\u001b[0m\u001b[0;34m\u001b[0m\u001b[0;34m\u001b[0m\u001b[0m\n\u001b[1;32m      4\u001b[0m \u001b[0;34m\u001b[0m\u001b[0m\n\u001b[0;32m----> 5\u001b[0;31m \u001b[0mlabels\u001b[0m\u001b[0;34m,\u001b[0m \u001b[0mcenters\u001b[0m \u001b[0;34m=\u001b[0m \u001b[0mfuzzyCMeansClustering\u001b[0m\u001b[0;34m(\u001b[0m\u001b[0;34m)\u001b[0m\u001b[0;34m\u001b[0m\u001b[0;34m\u001b[0m\u001b[0m\n\u001b[0m\u001b[1;32m      6\u001b[0m \u001b[0;34m\u001b[0m\u001b[0m\n\u001b[1;32m      7\u001b[0m \u001b[0mprint\u001b[0m\u001b[0;34m(\u001b[0m\u001b[0;34m\"printing cluster centers\"\u001b[0m\u001b[0;34m)\u001b[0m\u001b[0;34m\u001b[0m\u001b[0;34m\u001b[0m\u001b[0m\n",
            "\u001b[0;32m<ipython-input-16-c39e93718bdc>\u001b[0m in \u001b[0;36mfuzzyCMeansClustering\u001b[0;34m()\u001b[0m\n\u001b[1;32m      6\u001b[0m     \u001b[0mcurr\u001b[0m \u001b[0;34m=\u001b[0m \u001b[0;36m0\u001b[0m\u001b[0;34m\u001b[0m\u001b[0;34m\u001b[0m\u001b[0m\n\u001b[1;32m      7\u001b[0m     \u001b[0;32mwhile\u001b[0m \u001b[0mcurr\u001b[0m \u001b[0;34m<=\u001b[0m \u001b[0mMAX_ITER\u001b[0m\u001b[0;34m:\u001b[0m\u001b[0;34m\u001b[0m\u001b[0;34m\u001b[0m\u001b[0m\n\u001b[0;32m----> 8\u001b[0;31m         \u001b[0mcluster_centers\u001b[0m \u001b[0;34m=\u001b[0m \u001b[0mcalculateClusterCenter\u001b[0m \u001b[0;34m(\u001b[0m\u001b[0mmembership_mat\u001b[0m\u001b[0;34m)\u001b[0m\u001b[0;34m\u001b[0m\u001b[0;34m\u001b[0m\u001b[0m\n\u001b[0m\u001b[1;32m      9\u001b[0m         \u001b[0mmembership_mat\u001b[0m \u001b[0;34m=\u001b[0m \u001b[0mupdateMembershipValue\u001b[0m \u001b[0;34m(\u001b[0m\u001b[0mmembership_mat\u001b[0m\u001b[0;34m,\u001b[0m \u001b[0mcluster_centers\u001b[0m\u001b[0;34m)\u001b[0m\u001b[0;34m\u001b[0m\u001b[0;34m\u001b[0m\u001b[0m\n\u001b[1;32m     10\u001b[0m         \u001b[0mcluster_labels\u001b[0m \u001b[0;34m=\u001b[0m \u001b[0mgetClusters\u001b[0m \u001b[0;34m(\u001b[0m\u001b[0mmembership_mat\u001b[0m\u001b[0;34m)\u001b[0m\u001b[0;34m\u001b[0m\u001b[0;34m\u001b[0m\u001b[0m\n",
            "\u001b[0;32m<ipython-input-38-714a42c67654>\u001b[0m in \u001b[0;36mcalculateClusterCenter\u001b[0;34m(membership_mat)\u001b[0m\n\u001b[1;32m      5\u001b[0m     \u001b[0mcluster_centers\u001b[0m \u001b[0;34m=\u001b[0m \u001b[0mlist\u001b[0m\u001b[0;34m(\u001b[0m\u001b[0;34m)\u001b[0m\u001b[0;34m\u001b[0m\u001b[0;34m\u001b[0m\u001b[0m\n\u001b[1;32m      6\u001b[0m     \u001b[0;32mfor\u001b[0m \u001b[0mj\u001b[0m \u001b[0;32min\u001b[0m \u001b[0mrange\u001b[0m\u001b[0;34m(\u001b[0m\u001b[0mk\u001b[0m\u001b[0;34m)\u001b[0m\u001b[0;34m:\u001b[0m\u001b[0;34m\u001b[0m\u001b[0;34m\u001b[0m\u001b[0m\n\u001b[0;32m----> 7\u001b[0;31m         \u001b[0mx\u001b[0m \u001b[0;34m=\u001b[0m \u001b[0mlist\u001b[0m\u001b[0;34m(\u001b[0m\u001b[0mcluster_mem_val\u001b[0m\u001b[0;34m[\u001b[0m\u001b[0mj\u001b[0m\u001b[0;34m]\u001b[0m\u001b[0;34m)\u001b[0m\u001b[0;34m\u001b[0m\u001b[0;34m\u001b[0m\u001b[0m\n\u001b[0m\u001b[1;32m      8\u001b[0m         \u001b[0mxraised\u001b[0m \u001b[0;34m=\u001b[0m \u001b[0;34m[\u001b[0m\u001b[0me\u001b[0m \u001b[0;34m**\u001b[0m \u001b[0mm\u001b[0m \u001b[0;32mfor\u001b[0m \u001b[0me\u001b[0m \u001b[0;32min\u001b[0m \u001b[0mx\u001b[0m\u001b[0;34m]\u001b[0m\u001b[0;34m\u001b[0m\u001b[0;34m\u001b[0m\u001b[0m\n\u001b[1;32m      9\u001b[0m         \u001b[0mdenominator\u001b[0m \u001b[0;34m=\u001b[0m \u001b[0msum\u001b[0m\u001b[0;34m(\u001b[0m\u001b[0mxraised\u001b[0m\u001b[0;34m)\u001b[0m\u001b[0;34m\u001b[0m\u001b[0;34m\u001b[0m\u001b[0m\n",
            "\u001b[0;31mTypeError\u001b[0m: 'zip' object is not subscriptable"
          ]
        }
      ]
    },
    {
      "cell_type": "code",
      "source": [
        "### menghitung hasil akurasi\n",
        "\n",
        "a,p,r = accuracy(labels, class_labels)\n",
        "\n",
        "### catak nilai akurasi\n",
        "\n",
        "print(\"Accuracy =\"+ str(a))\n",
        "print(\"Precision =\" + str(p))\n",
        "print(\"Recall = \" + str(r))"
      ],
      "metadata": {
        "colab": {
          "base_uri": "https://localhost:8080/",
          "height": 245
        },
        "id": "aD9q48elXNfA",
        "outputId": "7cefd355-8150-471b-c462-999a9629304f"
      },
      "execution_count": 25,
      "outputs": [
        {
          "output_type": "error",
          "ename": "NameError",
          "evalue": "ignored",
          "traceback": [
            "\u001b[0;31m---------------------------------------------------------------------------\u001b[0m",
            "\u001b[0;31mNameError\u001b[0m                                 Traceback (most recent call last)",
            "\u001b[0;32m<ipython-input-25-7a20267c3835>\u001b[0m in \u001b[0;36m<cell line: 3>\u001b[0;34m()\u001b[0m\n\u001b[1;32m      1\u001b[0m \u001b[0;31m### menghitung hasil akurasi\u001b[0m\u001b[0;34m\u001b[0m\u001b[0;34m\u001b[0m\u001b[0m\n\u001b[1;32m      2\u001b[0m \u001b[0;34m\u001b[0m\u001b[0m\n\u001b[0;32m----> 3\u001b[0;31m \u001b[0ma\u001b[0m\u001b[0;34m,\u001b[0m\u001b[0mp\u001b[0m\u001b[0;34m,\u001b[0m\u001b[0mr\u001b[0m \u001b[0;34m=\u001b[0m \u001b[0maccuracy\u001b[0m\u001b[0;34m(\u001b[0m\u001b[0mlabels\u001b[0m\u001b[0;34m,\u001b[0m \u001b[0mclass_labels\u001b[0m\u001b[0;34m)\u001b[0m\u001b[0;34m\u001b[0m\u001b[0;34m\u001b[0m\u001b[0m\n\u001b[0m\u001b[1;32m      4\u001b[0m \u001b[0;34m\u001b[0m\u001b[0m\n\u001b[1;32m      5\u001b[0m \u001b[0;31m### catak nilai akurasi\u001b[0m\u001b[0;34m\u001b[0m\u001b[0;34m\u001b[0m\u001b[0m\n",
            "\u001b[0;31mNameError\u001b[0m: name 'labels' is not defined"
          ]
        }
      ]
    }
  ]
}